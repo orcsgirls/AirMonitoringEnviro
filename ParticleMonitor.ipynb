{
 "cells": [
  {
   "cell_type": "markdown",
   "id": "e154827e",
   "metadata": {},
   "source": [
    "### Particle Monitor\n",
    "\n",
    "Install the driver using\n",
    "\n",
    "```\n",
    "pip3 install adafruit-circuitpython-pm25\n",
    "```\n",
    "\n",
    "More: https://github.com/adafruit/Adafruit_CircuitPython_PM25/blob/main/examples/pm25_simpletest.py"
   ]
  },
  {
   "cell_type": "code",
   "execution_count": 3,
   "id": "8cebd834",
   "metadata": {},
   "outputs": [
    {
     "name": "stdout",
     "output_type": "stream",
     "text": [
      "Found PM2.5 sensor, reading data...\n"
     ]
    }
   ],
   "source": [
    "import time\n",
    "import board\n",
    "import busio\n",
    "from digitalio import DigitalInOut, Direction, Pull\n",
    "from adafruit_pm25.i2c import PM25_I2C\n",
    "from IPython.display import clear_output\n",
    "\n",
    "reset_pin = None\n",
    "# Create library object, use 'slow' 100KHz frequency!\n",
    "i2c = busio.I2C(board.SCL, board.SDA, frequency=100000)\n",
    "# Connect to a PM2.5 sensor over I2C\n",
    "pm25 = PM25_I2C(i2c, reset_pin)\n",
    "\n",
    "print(\"Found PM2.5 sensor, reading data...\")"
   ]
  },
  {
   "cell_type": "code",
   "execution_count": 4,
   "id": "4630a4ca",
   "metadata": {},
   "outputs": [
    {
     "name": "stdout",
     "output_type": "stream",
     "text": [
      "\n",
      "Concentration Units (standard)\n",
      "---------------------------------------\n",
      "PM 1.0: 6\tPM2.5: 7\tPM10: 7\n",
      "Concentration Units (environmental)\n",
      "---------------------------------------\n",
      "PM 1.0: 6\tPM2.5: 7\tPM10: 7\n",
      "---------------------------------------\n",
      "Particles > 0.3um / 0.1L air: 942\n",
      "Particles > 0.5um / 0.1L air: 294\n",
      "Particles > 1.0um / 0.1L air: 25\n",
      "Particles > 2.5um / 0.1L air: 0\n",
      "Particles > 5.0um / 0.1L air: 0\n",
      "Particles > 10 um / 0.1L air: 0\n",
      "---------------------------------------\n"
     ]
    },
    {
     "ename": "KeyboardInterrupt",
     "evalue": "",
     "output_type": "error",
     "traceback": [
      "\u001b[0;31m---------------------------------------------------------------------------\u001b[0m",
      "\u001b[0;31mKeyboardInterrupt\u001b[0m                         Traceback (most recent call last)",
      "\u001b[0;32m<ipython-input-4-a3945a730da7>\u001b[0m in \u001b[0;36m<module>\u001b[0;34m\u001b[0m\n\u001b[1;32m      1\u001b[0m \u001b[0;32mwhile\u001b[0m \u001b[0;32mTrue\u001b[0m\u001b[0;34m:\u001b[0m\u001b[0;34m\u001b[0m\u001b[0;34m\u001b[0m\u001b[0m\n\u001b[0;32m----> 2\u001b[0;31m     \u001b[0mtime\u001b[0m\u001b[0;34m.\u001b[0m\u001b[0msleep\u001b[0m\u001b[0;34m(\u001b[0m\u001b[0;36m1\u001b[0m\u001b[0;34m)\u001b[0m\u001b[0;34m\u001b[0m\u001b[0;34m\u001b[0m\u001b[0m\n\u001b[0m\u001b[1;32m      3\u001b[0m \u001b[0;34m\u001b[0m\u001b[0m\n\u001b[1;32m      4\u001b[0m     \u001b[0;32mtry\u001b[0m\u001b[0;34m:\u001b[0m\u001b[0;34m\u001b[0m\u001b[0;34m\u001b[0m\u001b[0m\n\u001b[1;32m      5\u001b[0m         \u001b[0maqdata\u001b[0m \u001b[0;34m=\u001b[0m \u001b[0mpm25\u001b[0m\u001b[0;34m.\u001b[0m\u001b[0mread\u001b[0m\u001b[0;34m(\u001b[0m\u001b[0;34m)\u001b[0m\u001b[0;34m\u001b[0m\u001b[0;34m\u001b[0m\u001b[0m\n",
      "\u001b[0;31mKeyboardInterrupt\u001b[0m: "
     ]
    }
   ],
   "source": [
    "while True:\n",
    "    time.sleep(1)\n",
    "\n",
    "    try:\n",
    "        aqdata = pm25.read()\n",
    "    except RuntimeError:\n",
    "        print(\"Unable to read from sensor, retrying...\")\n",
    "        continue\n",
    "\n",
    "    clear_output(wait=True)\n",
    "    print()\n",
    "    print(\"Concentration Units (standard)\")\n",
    "    print(\"---------------------------------------\")\n",
    "    print(\n",
    "        \"PM 1.0: %d\\tPM2.5: %d\\tPM10: %d\"\n",
    "        % (aqdata[\"pm10 standard\"], aqdata[\"pm25 standard\"], aqdata[\"pm100 standard\"])\n",
    "    )\n",
    "    print(\"Concentration Units (environmental)\")\n",
    "    print(\"---------------------------------------\")\n",
    "    print(\n",
    "        \"PM 1.0: %d\\tPM2.5: %d\\tPM10: %d\"\n",
    "        % (aqdata[\"pm10 env\"], aqdata[\"pm25 env\"], aqdata[\"pm100 env\"])\n",
    "    )\n",
    "    print(\"---------------------------------------\")\n",
    "    print(\"Particles > 0.3um / 0.1L air:\", aqdata[\"particles 03um\"])\n",
    "    print(\"Particles > 0.5um / 0.1L air:\", aqdata[\"particles 05um\"])\n",
    "    print(\"Particles > 1.0um / 0.1L air:\", aqdata[\"particles 10um\"])\n",
    "    print(\"Particles > 2.5um / 0.1L air:\", aqdata[\"particles 25um\"])\n",
    "    print(\"Particles > 5.0um / 0.1L air:\", aqdata[\"particles 50um\"])\n",
    "    print(\"Particles > 10 um / 0.1L air:\", aqdata[\"particles 100um\"])\n",
    "    print(\"---------------------------------------\")"
   ]
  },
  {
   "cell_type": "code",
   "execution_count": null,
   "id": "c4fcbcd0",
   "metadata": {},
   "outputs": [],
   "source": []
  }
 ],
 "metadata": {
  "kernelspec": {
   "display_name": "Python 3",
   "language": "python",
   "name": "python3"
  },
  "language_info": {
   "codemirror_mode": {
    "name": "ipython",
    "version": 3
   },
   "file_extension": ".py",
   "mimetype": "text/x-python",
   "name": "python",
   "nbconvert_exporter": "python",
   "pygments_lexer": "ipython3",
   "version": "3.7.3"
  }
 },
 "nbformat": 4,
 "nbformat_minor": 5
}
